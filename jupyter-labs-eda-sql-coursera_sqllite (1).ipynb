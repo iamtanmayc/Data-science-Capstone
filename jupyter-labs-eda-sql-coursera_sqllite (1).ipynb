{
 "cells": [
  {
   "cell_type": "markdown",
   "metadata": {},
   "source": [
    "<p style=\"text-align:center\">\n",
    "    <a href=\"https://skills.network\" target=\"_blank\">\n",
    "    <img src=\"https://cf-courses-data.s3.us.cloud-object-storage.appdomain.cloud/assets/logos/SN_web_lightmode.png\" width=\"200\" alt=\"Skills Network Logo\">\n",
    "    </a>\n",
    "</p>\n",
    "\n",
    "<h1 align=center><font size = 5>Assignment: SQL Notebook for Peer Assignment</font></h1>\n",
    "\n",
    "Estimated time needed: **60** minutes.\n",
    "\n",
    "## Introduction\n",
    "Using this Python notebook you will:\n",
    "\n",
    "1.  Understand the Spacex DataSet\n",
    "2.  Load the dataset  into the corresponding table in a Db2 database\n",
    "3.  Execute SQL queries to answer assignment questions \n"
   ]
  },
  {
   "cell_type": "markdown",
   "metadata": {},
   "source": [
    "## Overview of the DataSet\n",
    "\n",
    "SpaceX has gained worldwide attention for a series of historic milestones. \n",
    "\n",
    "It is the only private company ever to return a spacecraft from low-earth orbit, which it first accomplished in December 2010.\n",
    "SpaceX advertises Falcon 9 rocket launches on its website with a cost of 62 million dollars wheras other providers cost upward of 165 million dollars each, much of the savings is because Space X can reuse the first stage. \n",
    "\n",
    "\n",
    "Therefore if we can determine if the first stage will land, we can determine the cost of a launch. \n",
    "\n",
    "This information can be used if an alternate company wants to bid against SpaceX for a rocket launch.\n",
    "\n",
    "This dataset includes a record for each payload carried during a SpaceX mission into outer space.\n"
   ]
  },
  {
   "cell_type": "markdown",
   "metadata": {},
   "source": [
    "### Download the datasets\n",
    "\n",
    "This assignment requires you to load the spacex dataset.\n",
    "\n",
    "In many cases the dataset to be analyzed is available as a .CSV (comma separated values) file, perhaps on the internet. Click on the link below to download and save the dataset (.CSV file):\n",
    "\n",
    " <a href=\"https://cf-courses-data.s3.us.cloud-object-storage.appdomain.cloud/IBM-DS0321EN-SkillsNetwork/labs/module_2/data/Spacex.csv\" target=\"_blank\">Spacex DataSet</a>\n",
    "\n"
   ]
  },
  {
   "cell_type": "code",
   "execution_count": 24,
   "metadata": {
    "tags": []
   },
   "outputs": [
    {
     "name": "stdout",
     "output_type": "stream",
     "text": [
      "Requirement already satisfied: sqlalchemy==1.3.9 in /home/jupyterlab/conda/envs/python/lib/python3.7/site-packages (1.3.9)\n"
     ]
    }
   ],
   "source": [
    "!pip install sqlalchemy==1.3.9\n"
   ]
  },
  {
   "cell_type": "markdown",
   "metadata": {},
   "source": [
    "### Connect to the database\n",
    "\n",
    "Let us first load the SQL extension and establish a connection with the database\n"
   ]
  },
  {
   "cell_type": "code",
   "execution_count": 25,
   "metadata": {
    "tags": []
   },
   "outputs": [
    {
     "name": "stdout",
     "output_type": "stream",
     "text": [
      "Requirement already satisfied: ipython-sql in /home/jupyterlab/conda/envs/python/lib/python3.7/site-packages (0.3.9)\n",
      "Requirement already satisfied: prettytable in /home/jupyterlab/conda/envs/python/lib/python3.7/site-packages (from ipython-sql) (3.7.0)\n",
      "Requirement already satisfied: ipython>=1.0 in /home/jupyterlab/conda/envs/python/lib/python3.7/site-packages (from ipython-sql) (7.33.0)\n",
      "Requirement already satisfied: sqlalchemy>=0.6.7 in /home/jupyterlab/conda/envs/python/lib/python3.7/site-packages (from ipython-sql) (1.3.9)\n",
      "Requirement already satisfied: sqlparse in /home/jupyterlab/conda/envs/python/lib/python3.7/site-packages (from ipython-sql) (0.4.4)\n",
      "Requirement already satisfied: six in /home/jupyterlab/conda/envs/python/lib/python3.7/site-packages (from ipython-sql) (1.16.0)\n",
      "Requirement already satisfied: ipython-genutils>=0.1.0 in /home/jupyterlab/conda/envs/python/lib/python3.7/site-packages (from ipython-sql) (0.2.0)\n",
      "Requirement already satisfied: setuptools>=18.5 in /home/jupyterlab/conda/envs/python/lib/python3.7/site-packages (from ipython>=1.0->ipython-sql) (67.7.2)\n",
      "Requirement already satisfied: jedi>=0.16 in /home/jupyterlab/conda/envs/python/lib/python3.7/site-packages (from ipython>=1.0->ipython-sql) (0.18.2)\n",
      "Requirement already satisfied: decorator in /home/jupyterlab/conda/envs/python/lib/python3.7/site-packages (from ipython>=1.0->ipython-sql) (5.1.1)\n",
      "Requirement already satisfied: pickleshare in /home/jupyterlab/conda/envs/python/lib/python3.7/site-packages (from ipython>=1.0->ipython-sql) (0.7.5)\n",
      "Requirement already satisfied: traitlets>=4.2 in /home/jupyterlab/conda/envs/python/lib/python3.7/site-packages (from ipython>=1.0->ipython-sql) (5.9.0)\n",
      "Requirement already satisfied: prompt-toolkit!=3.0.0,!=3.0.1,<3.1.0,>=2.0.0 in /home/jupyterlab/conda/envs/python/lib/python3.7/site-packages (from ipython>=1.0->ipython-sql) (3.0.38)\n",
      "Requirement already satisfied: pygments in /home/jupyterlab/conda/envs/python/lib/python3.7/site-packages (from ipython>=1.0->ipython-sql) (2.15.1)\n",
      "Requirement already satisfied: backcall in /home/jupyterlab/conda/envs/python/lib/python3.7/site-packages (from ipython>=1.0->ipython-sql) (0.2.0)\n",
      "Requirement already satisfied: matplotlib-inline in /home/jupyterlab/conda/envs/python/lib/python3.7/site-packages (from ipython>=1.0->ipython-sql) (0.1.6)\n",
      "Requirement already satisfied: pexpect>4.3 in /home/jupyterlab/conda/envs/python/lib/python3.7/site-packages (from ipython>=1.0->ipython-sql) (4.8.0)\n",
      "Requirement already satisfied: importlib-metadata in /home/jupyterlab/conda/envs/python/lib/python3.7/site-packages (from prettytable->ipython-sql) (4.11.4)\n",
      "Requirement already satisfied: wcwidth in /home/jupyterlab/conda/envs/python/lib/python3.7/site-packages (from prettytable->ipython-sql) (0.2.6)\n",
      "Requirement already satisfied: parso<0.9.0,>=0.8.0 in /home/jupyterlab/conda/envs/python/lib/python3.7/site-packages (from jedi>=0.16->ipython>=1.0->ipython-sql) (0.8.3)\n",
      "Requirement already satisfied: ptyprocess>=0.5 in /home/jupyterlab/conda/envs/python/lib/python3.7/site-packages (from pexpect>4.3->ipython>=1.0->ipython-sql) (0.7.0)\n",
      "Requirement already satisfied: zipp>=0.5 in /home/jupyterlab/conda/envs/python/lib/python3.7/site-packages (from importlib-metadata->prettytable->ipython-sql) (3.15.0)\n",
      "Requirement already satisfied: typing-extensions>=3.6.4 in /home/jupyterlab/conda/envs/python/lib/python3.7/site-packages (from importlib-metadata->prettytable->ipython-sql) (4.5.0)\n"
     ]
    }
   ],
   "source": [
    "#Please uncomment and execute the code below if you are working locally.\n",
    "\n",
    "!pip install ipython-sql"
   ]
  },
  {
   "cell_type": "code",
   "execution_count": 26,
   "metadata": {
    "tags": []
   },
   "outputs": [
    {
     "name": "stdout",
     "output_type": "stream",
     "text": [
      "The sql extension is already loaded. To reload it, use:\n",
      "  %reload_ext sql\n"
     ]
    }
   ],
   "source": [
    "%load_ext sql"
   ]
  },
  {
   "cell_type": "code",
   "execution_count": 27,
   "metadata": {
    "tags": []
   },
   "outputs": [],
   "source": [
    "import csv, sqlite3\n",
    "\n",
    "con = sqlite3.connect(\"my_data1.db\")\n",
    "cur = con.cursor()"
   ]
  },
  {
   "cell_type": "code",
   "execution_count": 28,
   "metadata": {
    "tags": []
   },
   "outputs": [],
   "source": [
    "!pip install -q pandas==1.1.5"
   ]
  },
  {
   "cell_type": "code",
   "execution_count": 29,
   "metadata": {
    "tags": []
   },
   "outputs": [
    {
     "data": {
      "text/plain": [
       "'Connected: @my_data1.db'"
      ]
     },
     "execution_count": 29,
     "metadata": {},
     "output_type": "execute_result"
    }
   ],
   "source": [
    "%sql sqlite:///my_data1.db"
   ]
  },
  {
   "cell_type": "code",
   "execution_count": 30,
   "metadata": {
    "tags": []
   },
   "outputs": [],
   "source": [
    "import pandas as pd\n",
    "df = pd.read_csv(\"https://cf-courses-data.s3.us.cloud-object-storage.appdomain.cloud/IBM-DS0321EN-SkillsNetwork/labs/module_2/data/Spacex.csv\")\n",
    "df.to_sql(\"SPACEXTBL\", con, if_exists='replace', index=False,method=\"multi\")"
   ]
  },
  {
   "cell_type": "markdown",
   "metadata": {},
   "source": [
    "**Note:This below code is added to remove blank rows from table**\n"
   ]
  },
  {
   "cell_type": "code",
   "execution_count": 31,
   "metadata": {
    "tags": []
   },
   "outputs": [
    {
     "name": "stdout",
     "output_type": "stream",
     "text": [
      " * sqlite:///my_data1.db\n",
      "(sqlite3.OperationalError) table SPACEXTABLE already exists\n",
      "[SQL: create table SPACEXTABLE as select * from SPACEXTBL where Date is not null]\n",
      "(Background on this error at: http://sqlalche.me/e/e3q8)\n"
     ]
    }
   ],
   "source": [
    "%sql create table SPACEXTABLE as select * from SPACEXTBL where Date is not null"
   ]
  },
  {
   "cell_type": "markdown",
   "metadata": {},
   "source": [
    "## Tasks\n",
    "\n",
    "Now write and execute SQL queries to solve the assignment tasks.\n",
    "\n",
    "**Note: If the column names are in mixed case enclose it in double quotes\n",
    "   For Example \"Landing_Outcome\"**\n",
    "\n",
    "### Task 1\n",
    "\n",
    "\n",
    "\n",
    "\n",
    "##### Display the names of the unique launch sites  in the space mission\n"
   ]
  },
  {
   "cell_type": "code",
   "execution_count": 35,
   "metadata": {
    "tags": []
   },
   "outputs": [
    {
     "name": "stdout",
     "output_type": "stream",
     "text": [
      " * sqlite:///my_data1.db\n",
      "Done.\n"
     ]
    },
    {
     "data": {
      "text/html": [
       "<table>\n",
       "    <thead>\n",
       "        <tr>\n",
       "            <th>Launch_Site</th>\n",
       "        </tr>\n",
       "    </thead>\n",
       "    <tbody>\n",
       "        <tr>\n",
       "            <td>CCAFS LC-40</td>\n",
       "        </tr>\n",
       "        <tr>\n",
       "            <td>VAFB SLC-4E</td>\n",
       "        </tr>\n",
       "        <tr>\n",
       "            <td>KSC LC-39A</td>\n",
       "        </tr>\n",
       "        <tr>\n",
       "            <td>CCAFS SLC-40</td>\n",
       "        </tr>\n",
       "    </tbody>\n",
       "</table>"
      ],
      "text/plain": [
       "[('CCAFS LC-40',), ('VAFB SLC-4E',), ('KSC LC-39A',), ('CCAFS SLC-40',)]"
      ]
     },
     "execution_count": 35,
     "metadata": {},
     "output_type": "execute_result"
    }
   ],
   "source": [
    "query = \"SELECT DISTINCT Launch_Site FROM SPACEXTABLE\"\n",
    "unique_launch_sites = %sql $query\n",
    "unique_launch_sites"
   ]
  },
  {
   "cell_type": "markdown",
   "metadata": {},
   "source": [
    "\n",
    "### Task 2\n",
    "\n",
    "\n",
    "#####  Display 5 records where launch sites begin with the string 'CCA' \n"
   ]
  },
  {
   "cell_type": "code",
   "execution_count": 36,
   "metadata": {
    "tags": []
   },
   "outputs": [
    {
     "name": "stdout",
     "output_type": "stream",
     "text": [
      " * sqlite:///my_data1.db\n",
      "Done.\n"
     ]
    },
    {
     "data": {
      "text/html": [
       "<table>\n",
       "    <thead>\n",
       "        <tr>\n",
       "            <th>Date</th>\n",
       "            <th>Time (UTC)</th>\n",
       "            <th>Booster_Version</th>\n",
       "            <th>Launch_Site</th>\n",
       "            <th>Payload</th>\n",
       "            <th>PAYLOAD_MASS__KG_</th>\n",
       "            <th>Orbit</th>\n",
       "            <th>Customer</th>\n",
       "            <th>Mission_Outcome</th>\n",
       "            <th>Landing_Outcome</th>\n",
       "        </tr>\n",
       "    </thead>\n",
       "    <tbody>\n",
       "        <tr>\n",
       "            <td>2010-06-04</td>\n",
       "            <td>18:45:00</td>\n",
       "            <td>F9 v1.0  B0003</td>\n",
       "            <td>CCAFS LC-40</td>\n",
       "            <td>Dragon Spacecraft Qualification Unit</td>\n",
       "            <td>0</td>\n",
       "            <td>LEO</td>\n",
       "            <td>SpaceX</td>\n",
       "            <td>Success</td>\n",
       "            <td>Failure (parachute)</td>\n",
       "        </tr>\n",
       "        <tr>\n",
       "            <td>2010-12-08</td>\n",
       "            <td>15:43:00</td>\n",
       "            <td>F9 v1.0  B0004</td>\n",
       "            <td>CCAFS LC-40</td>\n",
       "            <td>Dragon demo flight C1, two CubeSats, barrel of Brouere cheese</td>\n",
       "            <td>0</td>\n",
       "            <td>LEO (ISS)</td>\n",
       "            <td>NASA (COTS) NRO</td>\n",
       "            <td>Success</td>\n",
       "            <td>Failure (parachute)</td>\n",
       "        </tr>\n",
       "        <tr>\n",
       "            <td>2012-05-22</td>\n",
       "            <td>7:44:00</td>\n",
       "            <td>F9 v1.0  B0005</td>\n",
       "            <td>CCAFS LC-40</td>\n",
       "            <td>Dragon demo flight C2</td>\n",
       "            <td>525</td>\n",
       "            <td>LEO (ISS)</td>\n",
       "            <td>NASA (COTS)</td>\n",
       "            <td>Success</td>\n",
       "            <td>No attempt</td>\n",
       "        </tr>\n",
       "        <tr>\n",
       "            <td>2012-10-08</td>\n",
       "            <td>0:35:00</td>\n",
       "            <td>F9 v1.0  B0006</td>\n",
       "            <td>CCAFS LC-40</td>\n",
       "            <td>SpaceX CRS-1</td>\n",
       "            <td>500</td>\n",
       "            <td>LEO (ISS)</td>\n",
       "            <td>NASA (CRS)</td>\n",
       "            <td>Success</td>\n",
       "            <td>No attempt</td>\n",
       "        </tr>\n",
       "        <tr>\n",
       "            <td>2013-03-01</td>\n",
       "            <td>15:10:00</td>\n",
       "            <td>F9 v1.0  B0007</td>\n",
       "            <td>CCAFS LC-40</td>\n",
       "            <td>SpaceX CRS-2</td>\n",
       "            <td>677</td>\n",
       "            <td>LEO (ISS)</td>\n",
       "            <td>NASA (CRS)</td>\n",
       "            <td>Success</td>\n",
       "            <td>No attempt</td>\n",
       "        </tr>\n",
       "    </tbody>\n",
       "</table>"
      ],
      "text/plain": [
       "[('2010-06-04', '18:45:00', 'F9 v1.0  B0003', 'CCAFS LC-40', 'Dragon Spacecraft Qualification Unit', 0, 'LEO', 'SpaceX', 'Success', 'Failure (parachute)'),\n",
       " ('2010-12-08', '15:43:00', 'F9 v1.0  B0004', 'CCAFS LC-40', 'Dragon demo flight C1, two CubeSats, barrel of Brouere cheese', 0, 'LEO (ISS)', 'NASA (COTS) NRO', 'Success', 'Failure (parachute)'),\n",
       " ('2012-05-22', '7:44:00', 'F9 v1.0  B0005', 'CCAFS LC-40', 'Dragon demo flight C2', 525, 'LEO (ISS)', 'NASA (COTS)', 'Success', 'No attempt'),\n",
       " ('2012-10-08', '0:35:00', 'F9 v1.0  B0006', 'CCAFS LC-40', 'SpaceX CRS-1', 500, 'LEO (ISS)', 'NASA (CRS)', 'Success', 'No attempt'),\n",
       " ('2013-03-01', '15:10:00', 'F9 v1.0  B0007', 'CCAFS LC-40', 'SpaceX CRS-2', 677, 'LEO (ISS)', 'NASA (CRS)', 'Success', 'No attempt')]"
      ]
     },
     "execution_count": 36,
     "metadata": {},
     "output_type": "execute_result"
    }
   ],
   "source": [
    "query = \"SELECT * FROM SPACEXTABLE WHERE Launch_Site LIKE 'CCA%' LIMIT 5\"\n",
    "launch_sites_CCA = %sql $query\n",
    "launch_sites_CCA"
   ]
  },
  {
   "cell_type": "markdown",
   "metadata": {},
   "source": [
    "### Task 3\n",
    "\n",
    "\n",
    "\n",
    "\n",
    "##### Display the total payload mass carried by boosters launched by NASA (CRS)\n"
   ]
  },
  {
   "cell_type": "code",
   "execution_count": 37,
   "metadata": {
    "tags": []
   },
   "outputs": [
    {
     "name": "stdout",
     "output_type": "stream",
     "text": [
      " * sqlite:///my_data1.db\n",
      "Done.\n"
     ]
    },
    {
     "data": {
      "text/html": [
       "<table>\n",
       "    <thead>\n",
       "        <tr>\n",
       "            <th>Total_Payload_Mass</th>\n",
       "        </tr>\n",
       "    </thead>\n",
       "    <tbody>\n",
       "        <tr>\n",
       "            <td>45596</td>\n",
       "        </tr>\n",
       "    </tbody>\n",
       "</table>"
      ],
      "text/plain": [
       "[(45596,)]"
      ]
     },
     "execution_count": 37,
     "metadata": {},
     "output_type": "execute_result"
    }
   ],
   "source": [
    "query = \"SELECT SUM(PAYLOAD_MASS__KG_) AS Total_Payload_Mass FROM SPACEXTABLE WHERE Customer = 'NASA (CRS)'\"\n",
    "total_payload_mass_NASA = %sql $query\n",
    "total_payload_mass_NASA"
   ]
  },
  {
   "cell_type": "markdown",
   "metadata": {},
   "source": [
    "### Task 4\n",
    "\n",
    "\n",
    "\n",
    "\n",
    "##### Display average payload mass carried by booster version F9 v1.1\n"
   ]
  },
  {
   "cell_type": "code",
   "execution_count": 38,
   "metadata": {
    "tags": []
   },
   "outputs": [
    {
     "name": "stdout",
     "output_type": "stream",
     "text": [
      " * sqlite:///my_data1.db\n",
      "Done.\n"
     ]
    },
    {
     "data": {
      "text/html": [
       "<table>\n",
       "    <thead>\n",
       "        <tr>\n",
       "            <th>Avg_Payload_Mass</th>\n",
       "        </tr>\n",
       "    </thead>\n",
       "    <tbody>\n",
       "        <tr>\n",
       "            <td>2928.4</td>\n",
       "        </tr>\n",
       "    </tbody>\n",
       "</table>"
      ],
      "text/plain": [
       "[(2928.4,)]"
      ]
     },
     "execution_count": 38,
     "metadata": {},
     "output_type": "execute_result"
    }
   ],
   "source": [
    "query = \"SELECT AVG(PAYLOAD_MASS__KG_) AS Avg_Payload_Mass FROM SPACEXTABLE WHERE Booster_Version = 'F9 v1.1'\"\n",
    "avg_payload_mass_F9v1 = %sql $query\n",
    "avg_payload_mass_F9v1"
   ]
  },
  {
   "cell_type": "markdown",
   "metadata": {},
   "source": [
    "### Task 5\n",
    "\n",
    "##### List the date when the first succesful landing outcome in ground pad was acheived.\n",
    "\n",
    "\n",
    "_Hint:Use min function_ \n"
   ]
  },
  {
   "cell_type": "code",
   "execution_count": 39,
   "metadata": {
    "tags": []
   },
   "outputs": [
    {
     "name": "stdout",
     "output_type": "stream",
     "text": [
      " * sqlite:///my_data1.db\n",
      "(sqlite3.OperationalError) no such column: Landing__Outcome\n",
      "[SQL: SELECT MIN(Date) AS First_Successful_Landing_GRD FROM SPACEXTABLE WHERE Landing__Outcome = 'Success (ground pad)']\n",
      "(Background on this error at: http://sqlalche.me/e/e3q8)\n"
     ]
    }
   ],
   "source": [
    "query = \"SELECT MIN(Date) AS First_Successful_Landing_GRD FROM SPACEXTABLE WHERE Landing__Outcome = 'Success (ground pad)'\"\n",
    "first_successful_landing_GRD = %sql $query\n",
    "first_successful_landing_GRD"
   ]
  },
  {
   "cell_type": "markdown",
   "metadata": {},
   "source": [
    "### Task 6\n",
    "\n",
    "##### List the names of the boosters which have success in drone ship and have payload mass greater than 4000 but less than 6000\n"
   ]
  },
  {
   "cell_type": "code",
   "execution_count": 40,
   "metadata": {
    "tags": []
   },
   "outputs": [
    {
     "name": "stdout",
     "output_type": "stream",
     "text": [
      " * sqlite:///my_data1.db\n",
      "(sqlite3.OperationalError) no such column: Landing__Outcome\n",
      "[SQL: SELECT DISTINCT Booster_Version \n",
      "FROM SPACEXTABLE \n",
      "WHERE Landing__Outcome IN ('Success (drone ship)', 'Success (ground pad)')]\n",
      "(Background on this error at: http://sqlalche.me/e/e3q8)\n"
     ]
    }
   ],
   "source": [
    "query = \"\"\"\n",
    "SELECT DISTINCT Booster_Version \n",
    "FROM SPACEXTABLE \n",
    "WHERE Landing__Outcome IN ('Success (drone ship)', 'Success (ground pad)')\n",
    "\"\"\"\n",
    "successful_boosters = %sql $query\n",
    "successful_boosters"
   ]
  },
  {
   "cell_type": "markdown",
   "metadata": {},
   "source": [
    "### Task 7\n",
    "\n",
    "\n",
    "\n",
    "\n",
    "##### List the total number of successful and failure mission outcomes\n"
   ]
  },
  {
   "cell_type": "code",
   "execution_count": 41,
   "metadata": {
    "tags": []
   },
   "outputs": [
    {
     "name": "stdout",
     "output_type": "stream",
     "text": [
      " * sqlite:///my_data1.db\n",
      "Done.\n"
     ]
    },
    {
     "data": {
      "text/html": [
       "<table>\n",
       "    <thead>\n",
       "        <tr>\n",
       "            <th>Mission_Outcome</th>\n",
       "            <th>Total</th>\n",
       "        </tr>\n",
       "    </thead>\n",
       "    <tbody>\n",
       "        <tr>\n",
       "            <td>Failure (in flight)</td>\n",
       "            <td>1</td>\n",
       "        </tr>\n",
       "        <tr>\n",
       "            <td>Success</td>\n",
       "            <td>98</td>\n",
       "        </tr>\n",
       "        <tr>\n",
       "            <td>Success </td>\n",
       "            <td>1</td>\n",
       "        </tr>\n",
       "        <tr>\n",
       "            <td>Success (payload status unclear)</td>\n",
       "            <td>1</td>\n",
       "        </tr>\n",
       "    </tbody>\n",
       "</table>"
      ],
      "text/plain": [
       "[('Failure (in flight)', 1),\n",
       " ('Success', 98),\n",
       " ('Success ', 1),\n",
       " ('Success (payload status unclear)', 1)]"
      ]
     },
     "execution_count": 41,
     "metadata": {},
     "output_type": "execute_result"
    }
   ],
   "source": [
    "query = \"\"\"\n",
    "SELECT \n",
    "    Mission_Outcome, \n",
    "    COUNT(*) AS Total\n",
    "FROM \n",
    "    SPACEXTABLE \n",
    "GROUP BY \n",
    "    Mission_Outcome\n",
    "\"\"\"\n",
    "mission_outcomes = %sql $query\n",
    "mission_outcomes"
   ]
  },
  {
   "cell_type": "markdown",
   "metadata": {},
   "source": [
    "### Task 8\n",
    "\n",
    "\n",
    "\n",
    "##### List the   names of the booster_versions which have carried the maximum payload mass. Use a subquery\n"
   ]
  },
  {
   "cell_type": "code",
   "execution_count": 42,
   "metadata": {
    "tags": []
   },
   "outputs": [
    {
     "name": "stdout",
     "output_type": "stream",
     "text": [
      " * sqlite:///my_data1.db\n",
      "Done.\n"
     ]
    },
    {
     "data": {
      "text/html": [
       "<table>\n",
       "    <thead>\n",
       "        <tr>\n",
       "            <th>Booster_Version</th>\n",
       "        </tr>\n",
       "    </thead>\n",
       "    <tbody>\n",
       "        <tr>\n",
       "            <td>F9 B5 B1048.4</td>\n",
       "        </tr>\n",
       "        <tr>\n",
       "            <td>F9 B5 B1049.4</td>\n",
       "        </tr>\n",
       "        <tr>\n",
       "            <td>F9 B5 B1051.3</td>\n",
       "        </tr>\n",
       "        <tr>\n",
       "            <td>F9 B5 B1056.4</td>\n",
       "        </tr>\n",
       "        <tr>\n",
       "            <td>F9 B5 B1048.5</td>\n",
       "        </tr>\n",
       "        <tr>\n",
       "            <td>F9 B5 B1051.4</td>\n",
       "        </tr>\n",
       "        <tr>\n",
       "            <td>F9 B5 B1049.5</td>\n",
       "        </tr>\n",
       "        <tr>\n",
       "            <td>F9 B5 B1060.2 </td>\n",
       "        </tr>\n",
       "        <tr>\n",
       "            <td>F9 B5 B1058.3 </td>\n",
       "        </tr>\n",
       "        <tr>\n",
       "            <td>F9 B5 B1051.6</td>\n",
       "        </tr>\n",
       "        <tr>\n",
       "            <td>F9 B5 B1060.3</td>\n",
       "        </tr>\n",
       "        <tr>\n",
       "            <td>F9 B5 B1049.7 </td>\n",
       "        </tr>\n",
       "    </tbody>\n",
       "</table>"
      ],
      "text/plain": [
       "[('F9 B5 B1048.4',),\n",
       " ('F9 B5 B1049.4',),\n",
       " ('F9 B5 B1051.3',),\n",
       " ('F9 B5 B1056.4',),\n",
       " ('F9 B5 B1048.5',),\n",
       " ('F9 B5 B1051.4',),\n",
       " ('F9 B5 B1049.5',),\n",
       " ('F9 B5 B1060.2 ',),\n",
       " ('F9 B5 B1058.3 ',),\n",
       " ('F9 B5 B1051.6',),\n",
       " ('F9 B5 B1060.3',),\n",
       " ('F9 B5 B1049.7 ',)]"
      ]
     },
     "execution_count": 42,
     "metadata": {},
     "output_type": "execute_result"
    }
   ],
   "source": [
    "query = \"\"\"\n",
    "SELECT Booster_Version\n",
    "FROM SPACEXTABLE \n",
    "WHERE PAYLOAD_MASS__KG_ = (SELECT MAX(PAYLOAD_MASS__KG_) FROM SPACEXTABLE)\n",
    "\"\"\"\n",
    "boosters_max_payload = %sql $query\n",
    "boosters_max_payload"
   ]
  },
  {
   "cell_type": "markdown",
   "metadata": {},
   "source": [
    "### Task 9\n",
    "\n",
    "\n",
    "##### List the records which will display the month names, failure landing_outcomes in drone ship ,booster versions, launch_site for the months in year 2015.\n",
    "\n",
    "**Note: SQLLite does not support monthnames. So you need to use  substr(Date, 6,2) as month to get the months and substr(Date,0,5)='2015' for year.**\n"
   ]
  },
  {
   "cell_type": "code",
   "execution_count": 43,
   "metadata": {
    "tags": []
   },
   "outputs": [
    {
     "name": "stdout",
     "output_type": "stream",
     "text": [
      " * sqlite:///my_data1.db\n",
      "Done.\n"
     ]
    },
    {
     "data": {
      "text/html": [
       "<table>\n",
       "    <thead>\n",
       "        <tr>\n",
       "            <th>Date</th>\n",
       "            <th>Month</th>\n",
       "            <th>Day</th>\n",
       "            <th>Year</th>\n",
       "        </tr>\n",
       "    </thead>\n",
       "    <tbody>\n",
       "        <tr>\n",
       "            <td>2010-06-04</td>\n",
       "            <td>06</td>\n",
       "            <td>04</td>\n",
       "            <td>2010</td>\n",
       "        </tr>\n",
       "        <tr>\n",
       "            <td>2010-12-08</td>\n",
       "            <td>12</td>\n",
       "            <td>08</td>\n",
       "            <td>2010</td>\n",
       "        </tr>\n",
       "        <tr>\n",
       "            <td>2012-05-22</td>\n",
       "            <td>05</td>\n",
       "            <td>22</td>\n",
       "            <td>2012</td>\n",
       "        </tr>\n",
       "        <tr>\n",
       "            <td>2012-10-08</td>\n",
       "            <td>10</td>\n",
       "            <td>08</td>\n",
       "            <td>2012</td>\n",
       "        </tr>\n",
       "        <tr>\n",
       "            <td>2013-03-01</td>\n",
       "            <td>03</td>\n",
       "            <td>01</td>\n",
       "            <td>2013</td>\n",
       "        </tr>\n",
       "        <tr>\n",
       "            <td>2013-09-29</td>\n",
       "            <td>09</td>\n",
       "            <td>29</td>\n",
       "            <td>2013</td>\n",
       "        </tr>\n",
       "        <tr>\n",
       "            <td>2013-12-03</td>\n",
       "            <td>12</td>\n",
       "            <td>03</td>\n",
       "            <td>2013</td>\n",
       "        </tr>\n",
       "        <tr>\n",
       "            <td>2014-01-06</td>\n",
       "            <td>01</td>\n",
       "            <td>06</td>\n",
       "            <td>2014</td>\n",
       "        </tr>\n",
       "        <tr>\n",
       "            <td>2014-04-18</td>\n",
       "            <td>04</td>\n",
       "            <td>18</td>\n",
       "            <td>2014</td>\n",
       "        </tr>\n",
       "        <tr>\n",
       "            <td>2014-07-14</td>\n",
       "            <td>07</td>\n",
       "            <td>14</td>\n",
       "            <td>2014</td>\n",
       "        </tr>\n",
       "        <tr>\n",
       "            <td>2014-08-05</td>\n",
       "            <td>08</td>\n",
       "            <td>05</td>\n",
       "            <td>2014</td>\n",
       "        </tr>\n",
       "        <tr>\n",
       "            <td>2014-09-07</td>\n",
       "            <td>09</td>\n",
       "            <td>07</td>\n",
       "            <td>2014</td>\n",
       "        </tr>\n",
       "        <tr>\n",
       "            <td>2014-09-21</td>\n",
       "            <td>09</td>\n",
       "            <td>21</td>\n",
       "            <td>2014</td>\n",
       "        </tr>\n",
       "        <tr>\n",
       "            <td>2015-01-10</td>\n",
       "            <td>01</td>\n",
       "            <td>10</td>\n",
       "            <td>2015</td>\n",
       "        </tr>\n",
       "        <tr>\n",
       "            <td>2015-02-11</td>\n",
       "            <td>02</td>\n",
       "            <td>11</td>\n",
       "            <td>2015</td>\n",
       "        </tr>\n",
       "        <tr>\n",
       "            <td>2015-03-02</td>\n",
       "            <td>03</td>\n",
       "            <td>02</td>\n",
       "            <td>2015</td>\n",
       "        </tr>\n",
       "        <tr>\n",
       "            <td>2015-04-14</td>\n",
       "            <td>04</td>\n",
       "            <td>14</td>\n",
       "            <td>2015</td>\n",
       "        </tr>\n",
       "        <tr>\n",
       "            <td>2015-04-27</td>\n",
       "            <td>04</td>\n",
       "            <td>27</td>\n",
       "            <td>2015</td>\n",
       "        </tr>\n",
       "        <tr>\n",
       "            <td>2015-06-28</td>\n",
       "            <td>06</td>\n",
       "            <td>28</td>\n",
       "            <td>2015</td>\n",
       "        </tr>\n",
       "        <tr>\n",
       "            <td>2015-12-22</td>\n",
       "            <td>12</td>\n",
       "            <td>22</td>\n",
       "            <td>2015</td>\n",
       "        </tr>\n",
       "        <tr>\n",
       "            <td>2016-01-17</td>\n",
       "            <td>01</td>\n",
       "            <td>17</td>\n",
       "            <td>2016</td>\n",
       "        </tr>\n",
       "        <tr>\n",
       "            <td>2016-03-04</td>\n",
       "            <td>03</td>\n",
       "            <td>04</td>\n",
       "            <td>2016</td>\n",
       "        </tr>\n",
       "        <tr>\n",
       "            <td>2016-04-08</td>\n",
       "            <td>04</td>\n",
       "            <td>08</td>\n",
       "            <td>2016</td>\n",
       "        </tr>\n",
       "        <tr>\n",
       "            <td>2016-05-06</td>\n",
       "            <td>05</td>\n",
       "            <td>06</td>\n",
       "            <td>2016</td>\n",
       "        </tr>\n",
       "        <tr>\n",
       "            <td>2016-05-27</td>\n",
       "            <td>05</td>\n",
       "            <td>27</td>\n",
       "            <td>2016</td>\n",
       "        </tr>\n",
       "        <tr>\n",
       "            <td>2016-06-15</td>\n",
       "            <td>06</td>\n",
       "            <td>15</td>\n",
       "            <td>2016</td>\n",
       "        </tr>\n",
       "        <tr>\n",
       "            <td>2016-07-18</td>\n",
       "            <td>07</td>\n",
       "            <td>18</td>\n",
       "            <td>2016</td>\n",
       "        </tr>\n",
       "        <tr>\n",
       "            <td>2016-08-14</td>\n",
       "            <td>08</td>\n",
       "            <td>14</td>\n",
       "            <td>2016</td>\n",
       "        </tr>\n",
       "        <tr>\n",
       "            <td>2017-01-14</td>\n",
       "            <td>01</td>\n",
       "            <td>14</td>\n",
       "            <td>2017</td>\n",
       "        </tr>\n",
       "        <tr>\n",
       "            <td>2017-02-19</td>\n",
       "            <td>02</td>\n",
       "            <td>19</td>\n",
       "            <td>2017</td>\n",
       "        </tr>\n",
       "        <tr>\n",
       "            <td>2017-03-16</td>\n",
       "            <td>03</td>\n",
       "            <td>16</td>\n",
       "            <td>2017</td>\n",
       "        </tr>\n",
       "        <tr>\n",
       "            <td>2017-03-30</td>\n",
       "            <td>03</td>\n",
       "            <td>30</td>\n",
       "            <td>2017</td>\n",
       "        </tr>\n",
       "        <tr>\n",
       "            <td>2017-05-01</td>\n",
       "            <td>05</td>\n",
       "            <td>01</td>\n",
       "            <td>2017</td>\n",
       "        </tr>\n",
       "        <tr>\n",
       "            <td>2017-05-15</td>\n",
       "            <td>05</td>\n",
       "            <td>15</td>\n",
       "            <td>2017</td>\n",
       "        </tr>\n",
       "        <tr>\n",
       "            <td>2017-06-03</td>\n",
       "            <td>06</td>\n",
       "            <td>03</td>\n",
       "            <td>2017</td>\n",
       "        </tr>\n",
       "        <tr>\n",
       "            <td>2017-06-23</td>\n",
       "            <td>06</td>\n",
       "            <td>23</td>\n",
       "            <td>2017</td>\n",
       "        </tr>\n",
       "        <tr>\n",
       "            <td>2017-06-25</td>\n",
       "            <td>06</td>\n",
       "            <td>25</td>\n",
       "            <td>2017</td>\n",
       "        </tr>\n",
       "        <tr>\n",
       "            <td>2017-07-05</td>\n",
       "            <td>07</td>\n",
       "            <td>05</td>\n",
       "            <td>2017</td>\n",
       "        </tr>\n",
       "        <tr>\n",
       "            <td>2017-08-14</td>\n",
       "            <td>08</td>\n",
       "            <td>14</td>\n",
       "            <td>2017</td>\n",
       "        </tr>\n",
       "        <tr>\n",
       "            <td>2017-08-24</td>\n",
       "            <td>08</td>\n",
       "            <td>24</td>\n",
       "            <td>2017</td>\n",
       "        </tr>\n",
       "        <tr>\n",
       "            <td>2017-09-07</td>\n",
       "            <td>09</td>\n",
       "            <td>07</td>\n",
       "            <td>2017</td>\n",
       "        </tr>\n",
       "        <tr>\n",
       "            <td>2017-10-09</td>\n",
       "            <td>10</td>\n",
       "            <td>09</td>\n",
       "            <td>2017</td>\n",
       "        </tr>\n",
       "        <tr>\n",
       "            <td>2017-10-11</td>\n",
       "            <td>10</td>\n",
       "            <td>11</td>\n",
       "            <td>2017</td>\n",
       "        </tr>\n",
       "        <tr>\n",
       "            <td>2017-10-30</td>\n",
       "            <td>10</td>\n",
       "            <td>30</td>\n",
       "            <td>2017</td>\n",
       "        </tr>\n",
       "        <tr>\n",
       "            <td>2017-12-15</td>\n",
       "            <td>12</td>\n",
       "            <td>15</td>\n",
       "            <td>2017</td>\n",
       "        </tr>\n",
       "        <tr>\n",
       "            <td>2017-12-23</td>\n",
       "            <td>12</td>\n",
       "            <td>23</td>\n",
       "            <td>2017</td>\n",
       "        </tr>\n",
       "        <tr>\n",
       "            <td>2018-01-08</td>\n",
       "            <td>01</td>\n",
       "            <td>08</td>\n",
       "            <td>2018</td>\n",
       "        </tr>\n",
       "        <tr>\n",
       "            <td>2018-01-31</td>\n",
       "            <td>01</td>\n",
       "            <td>31</td>\n",
       "            <td>2018</td>\n",
       "        </tr>\n",
       "        <tr>\n",
       "            <td>2018-02-22</td>\n",
       "            <td>02</td>\n",
       "            <td>22</td>\n",
       "            <td>2018</td>\n",
       "        </tr>\n",
       "        <tr>\n",
       "            <td>2018-03-06</td>\n",
       "            <td>03</td>\n",
       "            <td>06</td>\n",
       "            <td>2018</td>\n",
       "        </tr>\n",
       "        <tr>\n",
       "            <td>2018-03-30</td>\n",
       "            <td>03</td>\n",
       "            <td>30</td>\n",
       "            <td>2018</td>\n",
       "        </tr>\n",
       "        <tr>\n",
       "            <td>2018-04-02</td>\n",
       "            <td>04</td>\n",
       "            <td>02</td>\n",
       "            <td>2018</td>\n",
       "        </tr>\n",
       "        <tr>\n",
       "            <td>2018-04-18</td>\n",
       "            <td>04</td>\n",
       "            <td>18</td>\n",
       "            <td>2018</td>\n",
       "        </tr>\n",
       "        <tr>\n",
       "            <td>2018-05-11</td>\n",
       "            <td>05</td>\n",
       "            <td>11</td>\n",
       "            <td>2018</td>\n",
       "        </tr>\n",
       "        <tr>\n",
       "            <td>2018-05-22</td>\n",
       "            <td>05</td>\n",
       "            <td>22</td>\n",
       "            <td>2018</td>\n",
       "        </tr>\n",
       "        <tr>\n",
       "            <td>2018-06-04</td>\n",
       "            <td>06</td>\n",
       "            <td>04</td>\n",
       "            <td>2018</td>\n",
       "        </tr>\n",
       "        <tr>\n",
       "            <td>2018-06-29</td>\n",
       "            <td>06</td>\n",
       "            <td>29</td>\n",
       "            <td>2018</td>\n",
       "        </tr>\n",
       "        <tr>\n",
       "            <td>2018-07-22</td>\n",
       "            <td>07</td>\n",
       "            <td>22</td>\n",
       "            <td>2018</td>\n",
       "        </tr>\n",
       "        <tr>\n",
       "            <td>2018-07-25</td>\n",
       "            <td>07</td>\n",
       "            <td>25</td>\n",
       "            <td>2018</td>\n",
       "        </tr>\n",
       "        <tr>\n",
       "            <td>2018-08-07</td>\n",
       "            <td>08</td>\n",
       "            <td>07</td>\n",
       "            <td>2018</td>\n",
       "        </tr>\n",
       "        <tr>\n",
       "            <td>2018-09-10</td>\n",
       "            <td>09</td>\n",
       "            <td>10</td>\n",
       "            <td>2018</td>\n",
       "        </tr>\n",
       "        <tr>\n",
       "            <td>2018-10-08</td>\n",
       "            <td>10</td>\n",
       "            <td>08</td>\n",
       "            <td>2018</td>\n",
       "        </tr>\n",
       "        <tr>\n",
       "            <td>2018-11-15</td>\n",
       "            <td>11</td>\n",
       "            <td>15</td>\n",
       "            <td>2018</td>\n",
       "        </tr>\n",
       "        <tr>\n",
       "            <td>2018-12-03</td>\n",
       "            <td>12</td>\n",
       "            <td>03</td>\n",
       "            <td>2018</td>\n",
       "        </tr>\n",
       "        <tr>\n",
       "            <td>2018-12-05</td>\n",
       "            <td>12</td>\n",
       "            <td>05</td>\n",
       "            <td>2018</td>\n",
       "        </tr>\n",
       "        <tr>\n",
       "            <td>2018-12-23</td>\n",
       "            <td>12</td>\n",
       "            <td>23</td>\n",
       "            <td>2018</td>\n",
       "        </tr>\n",
       "        <tr>\n",
       "            <td>2019-01-11</td>\n",
       "            <td>01</td>\n",
       "            <td>11</td>\n",
       "            <td>2019</td>\n",
       "        </tr>\n",
       "        <tr>\n",
       "            <td>2019-02-22</td>\n",
       "            <td>02</td>\n",
       "            <td>22</td>\n",
       "            <td>2019</td>\n",
       "        </tr>\n",
       "        <tr>\n",
       "            <td>2019-03-02</td>\n",
       "            <td>03</td>\n",
       "            <td>02</td>\n",
       "            <td>2019</td>\n",
       "        </tr>\n",
       "        <tr>\n",
       "            <td>2019-05-04</td>\n",
       "            <td>05</td>\n",
       "            <td>04</td>\n",
       "            <td>2019</td>\n",
       "        </tr>\n",
       "        <tr>\n",
       "            <td>2019-05-24</td>\n",
       "            <td>05</td>\n",
       "            <td>24</td>\n",
       "            <td>2019</td>\n",
       "        </tr>\n",
       "        <tr>\n",
       "            <td>2019-06-12</td>\n",
       "            <td>06</td>\n",
       "            <td>12</td>\n",
       "            <td>2019</td>\n",
       "        </tr>\n",
       "        <tr>\n",
       "            <td>2019-07-25</td>\n",
       "            <td>07</td>\n",
       "            <td>25</td>\n",
       "            <td>2019</td>\n",
       "        </tr>\n",
       "        <tr>\n",
       "            <td>2019-08-06</td>\n",
       "            <td>08</td>\n",
       "            <td>06</td>\n",
       "            <td>2019</td>\n",
       "        </tr>\n",
       "        <tr>\n",
       "            <td>2019-11-11</td>\n",
       "            <td>11</td>\n",
       "            <td>11</td>\n",
       "            <td>2019</td>\n",
       "        </tr>\n",
       "        <tr>\n",
       "            <td>2019-12-05</td>\n",
       "            <td>12</td>\n",
       "            <td>05</td>\n",
       "            <td>2019</td>\n",
       "        </tr>\n",
       "        <tr>\n",
       "            <td>2019-12-17</td>\n",
       "            <td>12</td>\n",
       "            <td>17</td>\n",
       "            <td>2019</td>\n",
       "        </tr>\n",
       "        <tr>\n",
       "            <td>2020-01-07</td>\n",
       "            <td>01</td>\n",
       "            <td>07</td>\n",
       "            <td>2020</td>\n",
       "        </tr>\n",
       "        <tr>\n",
       "            <td>2020-01-19</td>\n",
       "            <td>01</td>\n",
       "            <td>19</td>\n",
       "            <td>2020</td>\n",
       "        </tr>\n",
       "        <tr>\n",
       "            <td>2020-01-29</td>\n",
       "            <td>01</td>\n",
       "            <td>29</td>\n",
       "            <td>2020</td>\n",
       "        </tr>\n",
       "        <tr>\n",
       "            <td>2020-02-17</td>\n",
       "            <td>02</td>\n",
       "            <td>17</td>\n",
       "            <td>2020</td>\n",
       "        </tr>\n",
       "        <tr>\n",
       "            <td>2020-03-07</td>\n",
       "            <td>03</td>\n",
       "            <td>07</td>\n",
       "            <td>2020</td>\n",
       "        </tr>\n",
       "        <tr>\n",
       "            <td>2020-03-18</td>\n",
       "            <td>03</td>\n",
       "            <td>18</td>\n",
       "            <td>2020</td>\n",
       "        </tr>\n",
       "        <tr>\n",
       "            <td>2020-04-22</td>\n",
       "            <td>04</td>\n",
       "            <td>22</td>\n",
       "            <td>2020</td>\n",
       "        </tr>\n",
       "        <tr>\n",
       "            <td>2020-05-30</td>\n",
       "            <td>05</td>\n",
       "            <td>30</td>\n",
       "            <td>2020</td>\n",
       "        </tr>\n",
       "        <tr>\n",
       "            <td>2020-06-04</td>\n",
       "            <td>06</td>\n",
       "            <td>04</td>\n",
       "            <td>2020</td>\n",
       "        </tr>\n",
       "        <tr>\n",
       "            <td>2020-06-13</td>\n",
       "            <td>06</td>\n",
       "            <td>13</td>\n",
       "            <td>2020</td>\n",
       "        </tr>\n",
       "        <tr>\n",
       "            <td>2020-06-30</td>\n",
       "            <td>06</td>\n",
       "            <td>30</td>\n",
       "            <td>2020</td>\n",
       "        </tr>\n",
       "        <tr>\n",
       "            <td>2020-07-20</td>\n",
       "            <td>07</td>\n",
       "            <td>20</td>\n",
       "            <td>2020</td>\n",
       "        </tr>\n",
       "        <tr>\n",
       "            <td>2020-08-07</td>\n",
       "            <td>08</td>\n",
       "            <td>07</td>\n",
       "            <td>2020</td>\n",
       "        </tr>\n",
       "        <tr>\n",
       "            <td>2020-08-18</td>\n",
       "            <td>08</td>\n",
       "            <td>18</td>\n",
       "            <td>2020</td>\n",
       "        </tr>\n",
       "        <tr>\n",
       "            <td>2020-08-30</td>\n",
       "            <td>08</td>\n",
       "            <td>30</td>\n",
       "            <td>2020</td>\n",
       "        </tr>\n",
       "        <tr>\n",
       "            <td>2020-09-03</td>\n",
       "            <td>09</td>\n",
       "            <td>03</td>\n",
       "            <td>2020</td>\n",
       "        </tr>\n",
       "        <tr>\n",
       "            <td>2020-10-06</td>\n",
       "            <td>10</td>\n",
       "            <td>06</td>\n",
       "            <td>2020</td>\n",
       "        </tr>\n",
       "        <tr>\n",
       "            <td>2020-10-18</td>\n",
       "            <td>10</td>\n",
       "            <td>18</td>\n",
       "            <td>2020</td>\n",
       "        </tr>\n",
       "        <tr>\n",
       "            <td>2020-10-24</td>\n",
       "            <td>10</td>\n",
       "            <td>24</td>\n",
       "            <td>2020</td>\n",
       "        </tr>\n",
       "        <tr>\n",
       "            <td>2020-11-05</td>\n",
       "            <td>11</td>\n",
       "            <td>05</td>\n",
       "            <td>2020</td>\n",
       "        </tr>\n",
       "        <tr>\n",
       "            <td>2020-11-16</td>\n",
       "            <td>11</td>\n",
       "            <td>16</td>\n",
       "            <td>2020</td>\n",
       "        </tr>\n",
       "        <tr>\n",
       "            <td>2020-11-21</td>\n",
       "            <td>11</td>\n",
       "            <td>21</td>\n",
       "            <td>2020</td>\n",
       "        </tr>\n",
       "        <tr>\n",
       "            <td>2020-11-25</td>\n",
       "            <td>11</td>\n",
       "            <td>25</td>\n",
       "            <td>2020</td>\n",
       "        </tr>\n",
       "        <tr>\n",
       "            <td>2020-12-06</td>\n",
       "            <td>12</td>\n",
       "            <td>06</td>\n",
       "            <td>2020</td>\n",
       "        </tr>\n",
       "    </tbody>\n",
       "</table>"
      ],
      "text/plain": [
       "[('2010-06-04', '06', '04', '2010'),\n",
       " ('2010-12-08', '12', '08', '2010'),\n",
       " ('2012-05-22', '05', '22', '2012'),\n",
       " ('2012-10-08', '10', '08', '2012'),\n",
       " ('2013-03-01', '03', '01', '2013'),\n",
       " ('2013-09-29', '09', '29', '2013'),\n",
       " ('2013-12-03', '12', '03', '2013'),\n",
       " ('2014-01-06', '01', '06', '2014'),\n",
       " ('2014-04-18', '04', '18', '2014'),\n",
       " ('2014-07-14', '07', '14', '2014'),\n",
       " ('2014-08-05', '08', '05', '2014'),\n",
       " ('2014-09-07', '09', '07', '2014'),\n",
       " ('2014-09-21', '09', '21', '2014'),\n",
       " ('2015-01-10', '01', '10', '2015'),\n",
       " ('2015-02-11', '02', '11', '2015'),\n",
       " ('2015-03-02', '03', '02', '2015'),\n",
       " ('2015-04-14', '04', '14', '2015'),\n",
       " ('2015-04-27', '04', '27', '2015'),\n",
       " ('2015-06-28', '06', '28', '2015'),\n",
       " ('2015-12-22', '12', '22', '2015'),\n",
       " ('2016-01-17', '01', '17', '2016'),\n",
       " ('2016-03-04', '03', '04', '2016'),\n",
       " ('2016-04-08', '04', '08', '2016'),\n",
       " ('2016-05-06', '05', '06', '2016'),\n",
       " ('2016-05-27', '05', '27', '2016'),\n",
       " ('2016-06-15', '06', '15', '2016'),\n",
       " ('2016-07-18', '07', '18', '2016'),\n",
       " ('2016-08-14', '08', '14', '2016'),\n",
       " ('2017-01-14', '01', '14', '2017'),\n",
       " ('2017-02-19', '02', '19', '2017'),\n",
       " ('2017-03-16', '03', '16', '2017'),\n",
       " ('2017-03-30', '03', '30', '2017'),\n",
       " ('2017-05-01', '05', '01', '2017'),\n",
       " ('2017-05-15', '05', '15', '2017'),\n",
       " ('2017-06-03', '06', '03', '2017'),\n",
       " ('2017-06-23', '06', '23', '2017'),\n",
       " ('2017-06-25', '06', '25', '2017'),\n",
       " ('2017-07-05', '07', '05', '2017'),\n",
       " ('2017-08-14', '08', '14', '2017'),\n",
       " ('2017-08-24', '08', '24', '2017'),\n",
       " ('2017-09-07', '09', '07', '2017'),\n",
       " ('2017-10-09', '10', '09', '2017'),\n",
       " ('2017-10-11', '10', '11', '2017'),\n",
       " ('2017-10-30', '10', '30', '2017'),\n",
       " ('2017-12-15', '12', '15', '2017'),\n",
       " ('2017-12-23', '12', '23', '2017'),\n",
       " ('2018-01-08', '01', '08', '2018'),\n",
       " ('2018-01-31', '01', '31', '2018'),\n",
       " ('2018-02-22', '02', '22', '2018'),\n",
       " ('2018-03-06', '03', '06', '2018'),\n",
       " ('2018-03-30', '03', '30', '2018'),\n",
       " ('2018-04-02', '04', '02', '2018'),\n",
       " ('2018-04-18', '04', '18', '2018'),\n",
       " ('2018-05-11', '05', '11', '2018'),\n",
       " ('2018-05-22', '05', '22', '2018'),\n",
       " ('2018-06-04', '06', '04', '2018'),\n",
       " ('2018-06-29', '06', '29', '2018'),\n",
       " ('2018-07-22', '07', '22', '2018'),\n",
       " ('2018-07-25', '07', '25', '2018'),\n",
       " ('2018-08-07', '08', '07', '2018'),\n",
       " ('2018-09-10', '09', '10', '2018'),\n",
       " ('2018-10-08', '10', '08', '2018'),\n",
       " ('2018-11-15', '11', '15', '2018'),\n",
       " ('2018-12-03', '12', '03', '2018'),\n",
       " ('2018-12-05', '12', '05', '2018'),\n",
       " ('2018-12-23', '12', '23', '2018'),\n",
       " ('2019-01-11', '01', '11', '2019'),\n",
       " ('2019-02-22', '02', '22', '2019'),\n",
       " ('2019-03-02', '03', '02', '2019'),\n",
       " ('2019-05-04', '05', '04', '2019'),\n",
       " ('2019-05-24', '05', '24', '2019'),\n",
       " ('2019-06-12', '06', '12', '2019'),\n",
       " ('2019-07-25', '07', '25', '2019'),\n",
       " ('2019-08-06', '08', '06', '2019'),\n",
       " ('2019-11-11', '11', '11', '2019'),\n",
       " ('2019-12-05', '12', '05', '2019'),\n",
       " ('2019-12-17', '12', '17', '2019'),\n",
       " ('2020-01-07', '01', '07', '2020'),\n",
       " ('2020-01-19', '01', '19', '2020'),\n",
       " ('2020-01-29', '01', '29', '2020'),\n",
       " ('2020-02-17', '02', '17', '2020'),\n",
       " ('2020-03-07', '03', '07', '2020'),\n",
       " ('2020-03-18', '03', '18', '2020'),\n",
       " ('2020-04-22', '04', '22', '2020'),\n",
       " ('2020-05-30', '05', '30', '2020'),\n",
       " ('2020-06-04', '06', '04', '2020'),\n",
       " ('2020-06-13', '06', '13', '2020'),\n",
       " ('2020-06-30', '06', '30', '2020'),\n",
       " ('2020-07-20', '07', '20', '2020'),\n",
       " ('2020-08-07', '08', '07', '2020'),\n",
       " ('2020-08-18', '08', '18', '2020'),\n",
       " ('2020-08-30', '08', '30', '2020'),\n",
       " ('2020-09-03', '09', '03', '2020'),\n",
       " ('2020-10-06', '10', '06', '2020'),\n",
       " ('2020-10-18', '10', '18', '2020'),\n",
       " ('2020-10-24', '10', '24', '2020'),\n",
       " ('2020-11-05', '11', '05', '2020'),\n",
       " ('2020-11-16', '11', '16', '2020'),\n",
       " ('2020-11-21', '11', '21', '2020'),\n",
       " ('2020-11-25', '11', '25', '2020'),\n",
       " ('2020-12-06', '12', '06', '2020')]"
      ]
     },
     "execution_count": 43,
     "metadata": {},
     "output_type": "execute_result"
    }
   ],
   "source": [
    "query = \"\"\"\n",
    "SELECT \n",
    "    Date,\n",
    "    strftime('%m', Date) AS Month,\n",
    "    strftime('%d', Date) AS Day,\n",
    "    strftime('%Y', Date) AS Year\n",
    "FROM \n",
    "    SPACEXTABLE\n",
    "\"\"\"\n",
    "date_columns = %sql $query\n",
    "date_columns"
   ]
  },
  {
   "cell_type": "markdown",
   "metadata": {},
   "source": [
    "### Task 10\n",
    "\n",
    "\n",
    "\n",
    "\n",
    "##### Rank the count of landing outcomes (such as Failure (drone ship) or Success (ground pad)) between the date 2010-06-04 and 2017-03-20, in descending order.\n"
   ]
  },
  {
   "cell_type": "code",
   "execution_count": 44,
   "metadata": {
    "tags": []
   },
   "outputs": [
    {
     "name": "stdout",
     "output_type": "stream",
     "text": [
      " * sqlite:///my_data1.db\n",
      "(sqlite3.OperationalError) no such column: Landing__Outcome\n",
      "[SQL: SELECT \n",
      "    Landing__Outcome, \n",
      "    COUNT(*) AS Outcome_Count\n",
      "FROM \n",
      "    SPACEXTABLE \n",
      "GROUP BY \n",
      "    Landing__Outcome\n",
      "ORDER BY \n",
      "    Outcome_Count DESC]\n",
      "(Background on this error at: http://sqlalche.me/e/e3q8)\n"
     ]
    }
   ],
   "source": [
    "query = \"\"\"\n",
    "SELECT \n",
    "    Landing__Outcome, \n",
    "    COUNT(*) AS Outcome_Count\n",
    "FROM \n",
    "    SPACEXTABLE \n",
    "GROUP BY \n",
    "    Landing__Outcome\n",
    "ORDER BY \n",
    "    Outcome_Count DESC\n",
    "\"\"\"\n",
    "landing_outcomes_ranked = %sql $query\n",
    "landing_outcomes_ranked"
   ]
  },
  {
   "cell_type": "markdown",
   "metadata": {},
   "source": [
    "### Reference Links\n",
    "\n",
    "* <a href =\"https://cf-courses-data.s3.us.cloud-object-storage.appdomain.cloud/IBMDeveloperSkillsNetwork-DB0201EN-SkillsNetwork/labs/Labs_Coursera_V5/labs/Lab%20-%20String%20Patterns%20-%20Sorting%20-%20Grouping/instructional-labs.md.html?origin=www.coursera.org\">Hands-on Lab : String Patterns, Sorting and Grouping</a>  \n",
    "\n",
    "*  <a  href=\"https://cf-courses-data.s3.us.cloud-object-storage.appdomain.cloud/IBMDeveloperSkillsNetwork-DB0201EN-SkillsNetwork/labs/Labs_Coursera_V5/labs/Lab%20-%20Built-in%20functions%20/Hands-on_Lab__Built-in_Functions.md.html?origin=www.coursera.org\">Hands-on Lab: Built-in functions</a>\n",
    "\n",
    "*  <a  href=\"https://cf-courses-data.s3.us.cloud-object-storage.appdomain.cloud/IBMDeveloperSkillsNetwork-DB0201EN-SkillsNetwork/labs/Labs_Coursera_V5/labs/Lab%20-%20Sub-queries%20and%20Nested%20SELECTs%20/instructional-labs.md.html?origin=www.coursera.org\">Hands-on Lab : Sub-queries and Nested SELECT Statements</a>\n",
    "\n",
    "*   <a href=\"https://cf-courses-data.s3.us.cloud-object-storage.appdomain.cloud/IBMDeveloperSkillsNetwork-DB0201EN-SkillsNetwork/labs/Module%205/DB0201EN-Week3-1-3-SQLmagic.ipynb\">Hands-on Tutorial: Accessing Databases with SQL magic</a>\n",
    "\n",
    "*  <a href= \"https://cf-courses-data.s3.us.cloud-object-storage.appdomain.cloud/IBMDeveloperSkillsNetwork-DB0201EN-SkillsNetwork/labs/Module%205/DB0201EN-Week3-1-4-Analyzing.ipynb\">Hands-on Lab: Analyzing a real World Data Set</a>\n",
    "\n",
    "\n"
   ]
  },
  {
   "cell_type": "markdown",
   "metadata": {},
   "source": [
    "## Author(s)\n",
    "\n",
    "<h4> Lakshmi Holla </h4>\n"
   ]
  },
  {
   "cell_type": "markdown",
   "metadata": {},
   "source": [
    "## Other Contributors\n",
    "\n",
    "<h4> Rav Ahuja </h4>\n"
   ]
  },
  {
   "cell_type": "markdown",
   "metadata": {},
   "source": [
    "## Change log\n",
    "| Date | Version | Changed by | Change Description |\n",
    "|------|--------|--------|---------|\n",
    "| 2021-07-09 | 0.2 |Lakshmi Holla | Changes made in magic sql|\n",
    "| 2021-05-20 | 0.1 |Lakshmi Holla | Created Initial Version |\n"
   ]
  },
  {
   "cell_type": "markdown",
   "metadata": {},
   "source": [
    "## <h3 align=\"center\"> © IBM Corporation 2021. All rights reserved. <h3/>\n"
   ]
  }
 ],
 "metadata": {
  "kernelspec": {
   "display_name": "Python",
   "language": "python",
   "name": "conda-env-python-py"
  },
  "language_info": {
   "codemirror_mode": {
    "name": "ipython",
    "version": 3
   },
   "file_extension": ".py",
   "mimetype": "text/x-python",
   "name": "python",
   "nbconvert_exporter": "python",
   "pygments_lexer": "ipython3",
   "version": "3.7.12"
  }
 },
 "nbformat": 4,
 "nbformat_minor": 4
}
